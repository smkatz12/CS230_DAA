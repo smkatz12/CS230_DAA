{
 "cells": [
  {
   "cell_type": "code",
   "execution_count": 1,
   "metadata": {},
   "outputs": [],
   "source": [
    "using PyCall, ProgressBars"
   ]
  },
  {
   "cell_type": "markdown",
   "metadata": {},
   "source": [
    "# Load in the Models"
   ]
  },
  {
   "cell_type": "code",
   "execution_count": 10,
   "metadata": {},
   "outputs": [],
   "source": [
    "# Imports for calling model\n",
    "pushfirst!(pyimport(\"sys\").\"path\", \"/home/smkatz/Documents/Classes/CS230/CS230_DAA/src\")\n",
    "xplane_ctrl = pyimport(\"util\")\n",
    "model1 = xplane_ctrl.load_model(\"models/uniform_v1.pt\")\n",
    "model2 = xplane_ctrl.load_model(\"models/uniform_v2.pt\")\n",
    "model3 = xplane_ctrl.load_model(\"models/uniform_v3.pt\");"
   ]
  },
  {
   "cell_type": "markdown",
   "metadata": {},
   "source": [
    "# Get Detections"
   ]
  },
  {
   "cell_type": "code",
   "execution_count": 3,
   "metadata": {},
   "outputs": [
    {
     "name": "stdout",
     "output_type": "stream",
     "text": [
      "0\n",
      "200\n",
      "400\n",
      "600\n",
      "800\n",
      "1000\n",
      "1200\n",
      "1400\n",
      "1600\n",
      "1800\n",
      "2000\n",
      "2200\n",
      "2400\n",
      "2600\n",
      "2800\n",
      "3000\n",
      "3200\n",
      "3400\n",
      "3600\n",
      "3800\n",
      "4000\n",
      "4200\n",
      "4400\n",
      "4600\n",
      "4800\n",
      "5000\n",
      "5200\n",
      "5400\n",
      "5600\n",
      "5800\n",
      "6000\n",
      "6200\n",
      "6400\n",
      "6600\n",
      "6800\n",
      "7000\n",
      "7200\n",
      "7400\n",
      "7600\n",
      "7800\n",
      "8000\n",
      "8200\n",
      "8400\n",
      "8600\n",
      "8800\n",
      "9000\n",
      "9200\n",
      "9400\n"
     ]
    }
   ],
   "source": [
    "detects_train_1 = zeros(9500)\n",
    "bbs_train_1 = []\n",
    "for i = 0:9499\n",
    "    filename = \"/scratch/smkatz/yolo_data/yolo_format/uniform_v1/train/images/$(i).jpg\"\n",
    "    detects_train_1[i+1], bbs = xplane_ctrl.bb_from_file(model1, filename)\n",
    "    push!(bbs_train_1, bbs)\n",
    "    i % 200 == 0 ? println(i) : nothing\n",
    "end"
   ]
  },
  {
   "cell_type": "code",
   "execution_count": 4,
   "metadata": {},
   "outputs": [
    {
     "name": "stdout",
     "output_type": "stream",
     "text": [
      "9600\n",
      "9800\n"
     ]
    }
   ],
   "source": [
    "detects_valid_1 = zeros(500)\n",
    "bbs_valid_1 = []\n",
    "for i = 9500:9999\n",
    "    filename = \"/scratch/smkatz/yolo_data/yolo_format/uniform_v1/valid/images/$(i).jpg\"\n",
    "    detects_valid_1[i-9499], bbs = xplane_ctrl.bb_from_file(model1, filename)\n",
    "    push!(bbs_valid_1, bbs)\n",
    "    i % 200 == 0 ? println(i) : nothing\n",
    "end"
   ]
  },
  {
   "cell_type": "code",
   "execution_count": 5,
   "metadata": {},
   "outputs": [],
   "source": [
    "detects_train_2 = zeros(9500)\n",
    "bbs_train_2 = []\n",
    "for i = 0:9499\n",
    "    filename = \"/scratch/smkatz/yolo_data/yolo_format/uniform_v2/train/images/$(i).jpg\"\n",
    "    detects_train_2[i+1], bbs = xplane_ctrl.bb_from_file(model2, filename)\n",
    "    push!(bbs_train_2, bbs)\n",
    "    #i % 200 == 0 ? println(i) : nothing\n",
    "end\n",
    "\n",
    "detects_valid_2 = zeros(500)\n",
    "bbs_valid_2 = []\n",
    "for i = 9500:9999\n",
    "    filename = \"/scratch/smkatz/yolo_data/yolo_format/uniform_v2/valid/images/$(i).jpg\"\n",
    "    detects_valid_2[i-9499], bbs = xplane_ctrl.bb_from_file(model2, filename)\n",
    "    push!(bbs_valid_2, bbs)\n",
    "    #i % 200 == 0 ? println(i) : nothing\n",
    "end\n",
    "\n",
    "detects_train_3 = zeros(9500)\n",
    "bbs_train_3 = []\n",
    "for i = 0:9499\n",
    "    filename = \"/scratch/smkatz/yolo_data/yolo_format/uniform_v3/train/images/$(i).jpg\"\n",
    "    detects_train_3[i+1], bbs = xplane_ctrl.bb_from_file(model3, filename)\n",
    "    push!(bbs_train_3, bbs)\n",
    "    #i % 200 == 0 ? println(i) : nothing\n",
    "end\n",
    "\n",
    "detects_valid_3 = zeros(500)\n",
    "bbs_valid_3 = []\n",
    "for i = 9500:9999\n",
    "    filename = \"/scratch/smkatz/yolo_data/yolo_format/uniform_v3/valid/images/$(i).jpg\"\n",
    "    detects_valid_3[i-9499], bbs = xplane_ctrl.bb_from_file(model3, filename)\n",
    "    push!(bbs_valid_3, bbs)\n",
    "    #i % 200 == 0 ? println(i) : nothing\n",
    "end"
   ]
  },
  {
   "cell_type": "markdown",
   "metadata": {},
   "source": [
    "# Get Detections Loaded"
   ]
  },
  {
   "cell_type": "code",
   "execution_count": 1,
   "metadata": {},
   "outputs": [],
   "source": [
    "using BSON"
   ]
  },
  {
   "cell_type": "code",
   "execution_count": 3,
   "metadata": {},
   "outputs": [],
   "source": [
    "res = BSON.load(\"/scratch/smkatz/cs230_detects_data.bson\")\n",
    "detects_train_1 = res[:detects_train_1]\n",
    "detects_train_2 = res[:detects_train_2]\n",
    "detects_train_3 = res[:detects_train_3]\n",
    "detects_valid_1 = res[:detects_valid_1]\n",
    "detects_valid_2 = res[:detects_valid_2]\n",
    "detects_valid_3 = res[:detects_valid_3]\n",
    "\n",
    "res = BSON.load(\"/scratch/smkatz/cs230_bbs_data.bson\")\n",
    "bbs_train_1 = res[:bbs_train_1]\n",
    "bbs_train_2 = res[:bbs_train_2]\n",
    "bbs_train_3 = res[:bbs_train_3]\n",
    "bbs_valid_1 = res[:bbs_valid_1]\n",
    "bbs_valid_2 = res[:bbs_valid_2]\n",
    "bbs_valid_3 = res[:bbs_valid_3];"
   ]
  },
  {
   "cell_type": "markdown",
   "metadata": {},
   "source": [
    "# Get Labels"
   ]
  },
  {
   "cell_type": "code",
   "execution_count": 4,
   "metadata": {},
   "outputs": [],
   "source": [
    "using DelimitedFiles"
   ]
  },
  {
   "cell_type": "code",
   "execution_count": 5,
   "metadata": {},
   "outputs": [],
   "source": [
    "bbs_train_1_labels = []\n",
    "for i = 0:9499\n",
    "    filename = \"/scratch/smkatz/yolo_data/yolo_format/uniform_v1/train/labels/$(i).txt\"\n",
    "    res = readdlm(filename)\n",
    "    push!(bbs_train_1_labels, res[2:5])\n",
    "end"
   ]
  },
  {
   "cell_type": "code",
   "execution_count": 6,
   "metadata": {},
   "outputs": [],
   "source": [
    "bbs_valid_1_labels = []\n",
    "for i = 9500:9999\n",
    "    filename = \"/scratch/smkatz/yolo_data/yolo_format/uniform_v1/valid/labels/$(i).txt\"\n",
    "    res = readdlm(filename)\n",
    "    push!(bbs_valid_1_labels, res[2:5])\n",
    "end"
   ]
  },
  {
   "cell_type": "code",
   "execution_count": 7,
   "metadata": {},
   "outputs": [],
   "source": [
    "bbs_train_2_labels = []\n",
    "for i = 0:9499\n",
    "    filename = \"/scratch/smkatz/yolo_data/yolo_format/uniform_v2/train/labels/$(i).txt\"\n",
    "    res = readdlm(filename)\n",
    "    push!(bbs_train_2_labels, res[2:5])\n",
    "end\n",
    "\n",
    "bbs_valid_2_labels = []\n",
    "for i = 9500:9999\n",
    "    filename = \"/scratch/smkatz/yolo_data/yolo_format/uniform_v2/valid/labels/$(i).txt\"\n",
    "    res = readdlm(filename)\n",
    "    push!(bbs_valid_2_labels, res[2:5])\n",
    "end\n",
    "\n",
    "bbs_train_3_labels = []\n",
    "for i = 0:9499\n",
    "    filename = \"/scratch/smkatz/yolo_data/yolo_format/uniform_v3/train/labels/$(i).txt\"\n",
    "    res = readdlm(filename)\n",
    "    push!(bbs_train_3_labels, res[2:5])\n",
    "end\n",
    "\n",
    "bbs_valid_3_labels = []\n",
    "for i = 9500:9999\n",
    "    filename = \"/scratch/smkatz/yolo_data/yolo_format/uniform_v3/valid/labels/$(i).txt\"\n",
    "    res = readdlm(filename)\n",
    "    push!(bbs_valid_3_labels, res[2:5])\n",
    "end"
   ]
  },
  {
   "cell_type": "code",
   "execution_count": 8,
   "metadata": {},
   "outputs": [
    {
     "data": {
      "text/plain": [
       "to_pixel (generic function with 1 method)"
      ]
     },
     "execution_count": 8,
     "metadata": {},
     "output_type": "execute_result"
    }
   ],
   "source": [
    "function to_pixel(label)\n",
    "    xp = label[1] * 1920\n",
    "    yp = label[2] * 1056\n",
    "    wp = label[3] * 1920\n",
    "    hp = label[4] * 1056\n",
    "    return [xp, yp, wp, hp]\n",
    "end"
   ]
  },
  {
   "cell_type": "code",
   "execution_count": 9,
   "metadata": {},
   "outputs": [
    {
     "data": {
      "text/plain": [
       "1×4 Matrix{Float64}:\n",
       " 588.0  343.0  38.0  14.0"
      ]
     },
     "execution_count": 9,
     "metadata": {},
     "output_type": "execute_result"
    }
   ],
   "source": [
    "bbs_valid_1[1]"
   ]
  },
  {
   "cell_type": "code",
   "execution_count": 10,
   "metadata": {},
   "outputs": [
    {
     "data": {
      "text/plain": [
       "1×4 adjoint(::Vector{Float64}) with eltype Float64:\n",
       " 600.876  349.946  38.2234  14.0152"
      ]
     },
     "execution_count": 10,
     "metadata": {},
     "output_type": "execute_result"
    }
   ],
   "source": [
    "to_pixel(bbs_valid_1_labels[1])'"
   ]
  },
  {
   "cell_type": "markdown",
   "metadata": {},
   "source": [
    "# Get IoU"
   ]
  },
  {
   "cell_type": "code",
   "execution_count": 11,
   "metadata": {},
   "outputs": [],
   "source": [
    "using LazySets"
   ]
  },
  {
   "cell_type": "code",
   "execution_count": 12,
   "metadata": {},
   "outputs": [
    {
     "data": {
      "text/plain": [
       "iou (generic function with 1 method)"
      ]
     },
     "execution_count": 12,
     "metadata": {},
     "output_type": "execute_result"
    }
   ],
   "source": [
    "function iou(bb1, bb2)\n",
    "    h1 = Hyperrectangle(bb1[1:2], bb1[3:4])\n",
    "    h2 = Hyperrectangle(bb2[1:2], bb2[3:4])\n",
    "\n",
    "    intersection = h1 ∩ h2\n",
    "    union = h1 ∪ h2\n",
    "\n",
    "    ia = area(intersection)\n",
    "    ua = area(h2) + area(h1) - ia\n",
    "\n",
    "    return ia / ua\n",
    "end"
   ]
  },
  {
   "cell_type": "code",
   "execution_count": 15,
   "metadata": {},
   "outputs": [
    {
     "data": {
      "text/plain": [
       "get_iou (generic function with 1 method)"
      ]
     },
     "execution_count": 15,
     "metadata": {},
     "output_type": "execute_result"
    }
   ],
   "source": [
    "function get_iou(detects, bbs_pred, bbs_labels)\n",
    "    ious = []\n",
    "    for i = 1:length(detects)\n",
    "        if detects[i] > 0\n",
    "            res = zeros(size(bbs_pred[i], 1))\n",
    "            for j = 1:size(bbs_pred[i], 1)\n",
    "                res[j] = iou(bbs_pred[i][j, :], to_pixel(bbs_labels[i]))\n",
    "            end\n",
    "            push!(ious, maximum(res))\n",
    "        end\n",
    "    end\n",
    "    return ious\n",
    "end"
   ]
  },
  {
   "cell_type": "code",
   "execution_count": 16,
   "metadata": {},
   "outputs": [],
   "source": [
    "ious_train_1 = get_iou(detects_train_1, bbs_train_1, bbs_train_1_labels)\n",
    "ious_valid_1 = get_iou(detects_valid_1, bbs_valid_1, bbs_valid_1_labels)\n",
    "ious_train_2 = get_iou(detects_train_2, bbs_train_2, bbs_train_2_labels)\n",
    "ious_valid_2 = get_iou(detects_valid_2, bbs_valid_2, bbs_valid_2_labels)\n",
    "ious_train_3 = get_iou(detects_train_3, bbs_train_3, bbs_train_3_labels)\n",
    "ious_valid_3 = get_iou(detects_valid_3, bbs_valid_3, bbs_valid_3_labels);"
   ]
  },
  {
   "cell_type": "code",
   "execution_count": 59,
   "metadata": {},
   "outputs": [],
   "source": [
    "using Statistics"
   ]
  },
  {
   "cell_type": "code",
   "execution_count": 60,
   "metadata": {},
   "outputs": [
    {
     "name": "stdout",
     "output_type": "stream",
     "text": [
      "Mean IoU Train 1: 0.3640849550191995\n",
      "Mean IoU Train 2: 0.36470560306866173\n",
      "Mean IoU Train 3: 0.36513088640998176\n",
      "Mean IoU Valid 1: 0.37586723454782234\n",
      "Mean IoU Valid 2: 0.36110893797971966\n",
      "Mean IoU Valid 3: 0.3608479622838801\n"
     ]
    }
   ],
   "source": [
    "println(\"Mean IoU Train 1: \", mean(ious_train_1))\n",
    "println(\"Mean IoU Train 2: \", mean(ious_train_2))\n",
    "println(\"Mean IoU Train 3: \", mean(ious_train_3))\n",
    "println(\"Mean IoU Valid 1: \", mean(ious_valid_1))\n",
    "println(\"Mean IoU Valid 2: \", mean(ious_valid_2))\n",
    "println(\"Mean IoU Valid 3: \", mean(ious_valid_3))"
   ]
  },
  {
   "cell_type": "markdown",
   "metadata": {},
   "source": [
    "# Above vs. Below Horizon"
   ]
  },
  {
   "cell_type": "code",
   "execution_count": 24,
   "metadata": {},
   "outputs": [],
   "source": [
    "ypixels1 = [to_pixel(bbs_train_1_labels[i])[2] for i = 1:length(bbs_train_1_labels)];"
   ]
  },
  {
   "cell_type": "code",
   "execution_count": 25,
   "metadata": {},
   "outputs": [],
   "source": [
    "ypixels1_detect = ypixels1[findall(detects_train_1 .> 0)];"
   ]
  },
  {
   "cell_type": "code",
   "execution_count": 16,
   "metadata": {},
   "outputs": [],
   "source": [
    "# using BSON\n",
    "# using BSON: @save"
   ]
  },
  {
   "cell_type": "code",
   "execution_count": 17,
   "metadata": {},
   "outputs": [],
   "source": [
    "# @save \"/scratch/smkatz/cs230_detects_data.bson\" detects_train_1 detects_train_2 detects_train_3 detects_valid_1 detects_valid_2 detects_valid_3\n",
    "# @save \"/scratch/smkatz/cs230_bbs_data.bson\" bbs_train_1 bbs_train_2 bbs_train_3 bbs_valid_1 bbs_valid_2 bbs_valid_3"
   ]
  },
  {
   "cell_type": "code",
   "execution_count": 18,
   "metadata": {},
   "outputs": [],
   "source": [
    "using PGFPlots"
   ]
  },
  {
   "cell_type": "code",
   "execution_count": 39,
   "metadata": {},
   "outputs": [],
   "source": [
    "include(\"/home/smkatz/Documents/Util/support_code.jl\");"
   ]
  },
  {
   "cell_type": "code",
   "execution_count": 51,
   "metadata": {},
   "outputs": [],
   "source": [
    "ax = Axis(Plots.Histogram(ypixels1, bins=20, density=true, style=\"gray, fill=gray!50, opacity=0.5\", legendentry=\"All Images\"), \n",
    "            xmin=0)\n",
    "push!(ax, Plots.Histogram(ypixels1_detect, bins=20, density=true, style=\"pastelBlue, fill=pastelBlue!50, opacity=0.5\", legendentry=\"Detected Images\"))\n",
    "ax.xlabel=\"Vertical Pixel Location\"\n",
    "ax.ylabel=\"Density\"\n",
    "ax.xmax = 1056\n",
    "ax\n",
    "PGFPlots.save(\"/home/smkatz/Documents/RiskSensitivePerception/detect_compare.tex\", ax, include_preamble=false)"
   ]
  },
  {
   "cell_type": "code",
   "execution_count": null,
   "metadata": {},
   "outputs": [],
   "source": []
  }
 ],
 "metadata": {
  "kernelspec": {
   "display_name": "Julia 1.7.2",
   "language": "julia",
   "name": "julia-1.7"
  },
  "language_info": {
   "file_extension": ".jl",
   "mimetype": "application/julia",
   "name": "julia",
   "version": "1.7.2"
  },
  "orig_nbformat": 4
 },
 "nbformat": 4,
 "nbformat_minor": 2
}
